{
 "cells": [
  {
   "cell_type": "code",
   "execution_count": 2,
   "metadata": {},
   "outputs": [],
   "source": [
    "from gurobipy import Model, GRB, quicksum\n",
    "import pandas as pd\n",
    "import numpy as np\n",
    "import matplotlib.pyplot as plt"
   ]
  },
  {
   "cell_type": "code",
   "execution_count": 3,
   "metadata": {},
   "outputs": [],
   "source": [
    "dataC = pd.read_csv(\"customer.csv\")"
   ]
  },
  {
   "cell_type": "code",
   "execution_count": 4,
   "metadata": {},
   "outputs": [],
   "source": [
    "dataF = pd.read_csv(\"facility.csv\")"
   ]
  },
  {
   "cell_type": "code",
   "execution_count": 5,
   "metadata": {},
   "outputs": [],
   "source": [
    "xc = dataC['X'].tolist()\n",
    "yc = dataC['Y'].tolist()\n",
    "h  = dataC['Demand'].tolist()\n",
    "n  = len(h)"
   ]
  },
  {
   "cell_type": "code",
   "execution_count": 6,
   "metadata": {},
   "outputs": [],
   "source": [
    "xf = dataF['X'].tolist()\n",
    "yf = dataF['Y'].tolist()\n",
    "f  = dataF['Installation cost'].tolist()\n",
    "m  = len(f)"
   ]
  },
  {
   "cell_type": "code",
   "execution_count": 7,
   "metadata": {},
   "outputs": [
    {
     "data": {
      "text/plain": [
       "<matplotlib.collections.PathCollection at 0x20381df08c8>"
      ]
     },
     "execution_count": 7,
     "metadata": {},
     "output_type": "execute_result"
    },
    {
     "data": {
      "image/png": "[encoded data removed]",
      "text/plain": [
       "<Figure size 432x288 with 1 Axes>"
      ]
     },
     "metadata": {
      "needs_background": "light"
     },
     "output_type": "display_data"
    }
   ],
   "source": [
    "\n"
   ]
  },
  {
   "cell_type": "code",
   "execution_count": 8,
   "metadata": {},
   "outputs": [],
   "source": [
    "I = [i for i in range(0,n)]\n",
    "J = [j for j in range(0,m)]\n",
    "A = [(i,j) for i in I for j in J]\n",
    "\n",
    "#Transportation cost is $1/mile\n",
    "c = {(i,j): 1*np.hypot(xc[i]-xf[j], yc[i]- yf[j]) for (i,j) in A}"
   ]
  },
  {
   "cell_type": "code",
   "execution_count": 9,
   "metadata": {},
   "outputs": [
    {
     "data": {
      "text/plain": [
       "{(0, 0): 86.00581375697809,\n",
       " (0, 1): 83.60023923410746,\n",
       " (0, 2): 23.430749027719962,\n",
       " (1, 0): 58.60034129593445,\n",
       " (1, 1): 44.384682042344295,\n",
       " (1, 2): 52.172789842982326,\n",
       " (2, 0): 77.88452991448301,\n",
       " (2, 1): 59.54829972383762,\n",
       " (2, 2): 29.832867780352597,\n",
       " (3, 0): 88.28363381737297,\n",
       " (3, 1): 95.71833680126291,\n",
       " (3, 2): 33.61547262794322,\n",
       " (4, 0): 131.76494222667878,\n",
       " (4, 1): 75.16648189186454,\n",
       " (4, 2): 57.42821606144492,\n",
       " (5, 0): 96.17692030835673,\n",
       " (5, 1): 31.144823004794873,\n",
       " (5, 2): 66.2872536767062,\n",
       " (6, 0): 132.06059215375342,\n",
       " (6, 1): 72.69112738154499,\n",
       " (6, 2): 62.12889826803627,\n",
       " (7, 0): 18.681541692269406,\n",
       " (7, 1): 73.24616030891995,\n",
       " (7, 2): 88.07383266328314,\n",
       " (8, 0): 3.0,\n",
       " (8, 1): 73.79024325749306,\n",
       " (8, 2): 101.96568050084302,\n",
       " (9, 0): 119.33985084622823,\n",
       " (9, 1): 111.8659912573969,\n",
       " (9, 2): 27.459060435491963}"
      ]
     },
     "execution_count": 9,
     "metadata": {},
     "output_type": "execute_result"
    }
   ],
   "source": [
    "c"
   ]
  },
  {
   "cell_type": "code",
   "execution_count": null,
   "metadata": {},
   "outputs": [],
   "source": []
  },
  {
   "cell_type": "code",
   "execution_count": 10,
   "metadata": {},
   "outputs": [],
   "source": [
    "from gurobipy import Model, GRB, quicksum"
   ]
  },
  {
   "cell_type": "code",
   "execution_count": 11,
   "metadata": {},
   "outputs": [
    {
     "name": "stdout",
     "output_type": "stream",
     "text": [
      "Academic license - for non-commercial use only - expires 2022-08-28\n",
      "Using license file C:\\Users\\HP\\gurobi.lic\n"
     ]
    }
   ],
   "source": [
    "mdl = Model('UFLP')"
   ]
  },
  {
   "cell_type": "code",
   "execution_count": 12,
   "metadata": {},
   "outputs": [],
   "source": [
    "x = mdl.addVars(J, vtype = GRB.BINARY)\n",
    "y = mdl.addVars(A, vtype = GRB.CONTINUOUS )"
   ]
  },
  {
   "cell_type": "code",
   "execution_count": 17,
   "metadata": {},
   "outputs": [],
   "source": [
    "mdl.setObjective(quicksum(f[j]*x[j] for j  in J) + quicksum(h[i]*c[i,j]*y[i,j] for i,j in A), GRB.MINIMIZE)"
   ]
  },
  {
   "cell_type": "code",
   "execution_count": 29,
   "metadata": {},
   "outputs": [
    {
     "data": {
      "text/plain": [
       "{(0, 0): <gurobi.Constr *Awaiting Model Update*>,\n",
       " (0, 1): <gurobi.Constr *Awaiting Model Update*>,\n",
       " (0, 2): <gurobi.Constr *Awaiting Model Update*>,\n",
       " (1, 0): <gurobi.Constr *Awaiting Model Update*>,\n",
       " (1, 1): <gurobi.Constr *Awaiting Model Update*>,\n",
       " (1, 2): <gurobi.Constr *Awaiting Model Update*>,\n",
       " (2, 0): <gurobi.Constr *Awaiting Model Update*>,\n",
       " (2, 1): <gurobi.Constr *Awaiting Model Update*>,\n",
       " (2, 2): <gurobi.Constr *Awaiting Model Update*>,\n",
       " (3, 0): <gurobi.Constr *Awaiting Model Update*>,\n",
       " (3, 1): <gurobi.Constr *Awaiting Model Update*>,\n",
       " (3, 2): <gurobi.Constr *Awaiting Model Update*>,\n",
       " (4, 0): <gurobi.Constr *Awaiting Model Update*>,\n",
       " (4, 1): <gurobi.Constr *Awaiting Model Update*>,\n",
       " (4, 2): <gurobi.Constr *Awaiting Model Update*>,\n",
       " (5, 0): <gurobi.Constr *Awaiting Model Update*>,\n",
       " (5, 1): <gurobi.Constr *Awaiting Model Update*>,\n",
       " (5, 2): <gurobi.Constr *Awaiting Model Update*>,\n",
       " (6, 0): <gurobi.Constr *Awaiting Model Update*>,\n",
       " (6, 1): <gurobi.Constr *Awaiting Model Update*>,\n",
       " (6, 2): <gurobi.Constr *Awaiting Model Update*>,\n",
       " (7, 0): <gurobi.Constr *Awaiting Model Update*>,\n",
       " (7, 1): <gurobi.Constr *Awaiting Model Update*>,\n",
       " (7, 2): <gurobi.Constr *Awaiting Model Update*>,\n",
       " (8, 0): <gurobi.Constr *Awaiting Model Update*>,\n",
       " (8, 1): <gurobi.Constr *Awaiting Model Update*>,\n",
       " (8, 2): <gurobi.Constr *Awaiting Model Update*>,\n",
       " (9, 0): <gurobi.Constr *Awaiting Model Update*>,\n",
       " (9, 1): <gurobi.Constr *Awaiting Model Update*>,\n",
       " (9, 2): <gurobi.Constr *Awaiting Model Update*>}"
      ]
     },
     "execution_count": 29,
     "metadata": {},
     "output_type": "execute_result"
    }
   ],
   "source": [
    "mdl.addConstrs(quicksum(y[i,j] for j in J) == 1 for i in I)\n",
    "mdl.addConstrs(y[i,j] <= x[j] for i,j in A)\n",
    "mdl.addConstrs(y[i,j] >= 0 for i,j in A)"
   ]
  },
  {
   "cell_type": "code",
   "execution_count": 30,
   "metadata": {},
   "outputs": [
    {
     "name": "stdout",
     "output_type": "stream",
     "text": [
      "Gurobi Optimizer version 9.1.2 build v9.1.2rc0 (win64)\n",
      "Thread count: 2 physical cores, 4 logical processors, using up to 4 threads\n",
      "Optimize a model with 200 rows, 33 columns and 360 nonzeros\n",
      "Model fingerprint: 0xbc518123\n",
      "Variable types: 30 continuous, 3 integer (3 binary)\n",
      "Coefficient statistics:\n",
      "  Matrix range     [1e+00, 1e+00]\n",
      "  Objective range  [3e+00, 8e+02]\n",
      "  Bounds range     [1e+00, 1e+00]\n",
      "  RHS range        [1e+00, 1e+00]\n",
      "Presolve removed 160 rows and 0 columns\n",
      "Presolve time: 0.04s\n",
      "Presolved: 40 rows, 33 columns, 90 nonzeros\n",
      "Variable types: 30 continuous, 3 integer (3 binary)\n",
      "\n",
      "Root relaxation: objective 1.535286e+03, 4 iterations, 0.04 seconds\n",
      "\n",
      "    Nodes    |    Current Node    |     Objective Bounds      |     Work\n",
      " Expl Unexpl |  Obj  Depth IntInf | Incumbent    BestBd   Gap | It/Node Time\n",
      "\n",
      "*    0     0               0    1535.2857629 1535.28576  0.00%     -    0s\n",
      "\n",
      "Explored 0 nodes (4 simplex iterations) in 0.42 seconds\n",
      "Thread count was 4 (of 4 available processors)\n",
      "\n",
      "Solution count 1: 1535.29 \n",
      "\n",
      "Optimal solution found (tolerance 1.00e-04)\n",
      "Best objective 1.535285762891e+03, best bound 1.535285762891e+03, gap 0.0000%\n"
     ]
    }
   ],
   "source": [
    "mdl.optimize()"
   ]
  },
  {
   "cell_type": "code",
   "execution_count": 31,
   "metadata": {},
   "outputs": [],
   "source": [
    "sol_x = {j: x[j] for j in J}"
   ]
  },
  {
   "cell_type": "code",
   "execution_count": 32,
   "metadata": {},
   "outputs": [
    {
     "data": {
      "text/plain": [
       "{0: <gurobi.Var C0 (value 1.0)>,\n",
       " 1: <gurobi.Var C1 (value 1.0)>,\n",
       " 2: <gurobi.Var C2 (value 1.0)>}"
      ]
     },
     "execution_count": 32,
     "metadata": {},
     "output_type": "execute_result"
    }
   ],
   "source": [
    "sol_x"
   ]
  },
  {
   "cell_type": "code",
   "execution_count": 34,
   "metadata": {},
   "outputs": [
    {
     "data": {
      "text/plain": [
       "{(0, 0): <gurobi.Var C3 (value 0.0)>,\n",
       " (0, 1): <gurobi.Var C4 (value 0.0)>,\n",
       " (0, 2): <gurobi.Var C5 (value 1.0)>,\n",
       " (1, 0): <gurobi.Var C6 (value 0.0)>,\n",
       " (1, 1): <gurobi.Var C7 (value 1.0)>,\n",
       " (1, 2): <gurobi.Var C8 (value 0.0)>,\n",
       " (2, 0): <gurobi.Var C9 (value 0.0)>,\n",
       " (2, 1): <gurobi.Var C10 (value 0.0)>,\n",
       " (2, 2): <gurobi.Var C11 (value 1.0)>,\n",
       " (3, 0): <gurobi.Var C12 (value 0.0)>,\n",
       " (3, 1): <gurobi.Var C13 (value 0.0)>,\n",
       " (3, 2): <gurobi.Var C14 (value 1.0)>,\n",
       " (4, 0): <gurobi.Var C15 (value 0.0)>,\n",
       " (4, 1): <gurobi.Var C16 (value 0.0)>,\n",
       " (4, 2): <gurobi.Var C17 (value 1.0)>,\n",
       " (5, 0): <gurobi.Var C18 (value 0.0)>,\n",
       " (5, 1): <gurobi.Var C19 (value 1.0)>,\n",
       " (5, 2): <gurobi.Var C20 (value 0.0)>,\n",
       " (6, 0): <gurobi.Var C21 (value 0.0)>,\n",
       " (6, 1): <gurobi.Var C22 (value 0.0)>,\n",
       " (6, 2): <gurobi.Var C23 (value 1.0)>,\n",
       " (7, 0): <gurobi.Var C24 (value 1.0)>,\n",
       " (7, 1): <gurobi.Var C25 (value 0.0)>,\n",
       " (7, 2): <gurobi.Var C26 (value 0.0)>,\n",
       " (8, 0): <gurobi.Var C27 (value 1.0)>,\n",
       " (8, 1): <gurobi.Var C28 (value 0.0)>,\n",
       " (8, 2): <gurobi.Var C29 (value 0.0)>,\n",
       " (9, 0): <gurobi.Var C30 (value 0.0)>,\n",
       " (9, 1): <gurobi.Var C31 (value 0.0)>,\n",
       " (9, 2): <gurobi.Var C32 (value 1.0)>}"
      ]
     },
     "execution_count": 34,
     "metadata": {},
     "output_type": "execute_result"
    }
   ],
   "source": [
    "sol_y = {(i,j): y[i,j] for i,j in A}\n",
    "sol_y"
   ]
  },
  {
   "cell_type": "code",
   "execution_count": 47,
   "metadata": {},
   "outputs": [
    {
     "data": {
      "image/png": "[encoded data removed]",
      "text/plain": [
       "<Figure size 432x288 with 1 Axes>"
      ]
     },
     "metadata": {
      "needs_background": "light"
     },
     "output_type": "display_data"
    }
   ],
   "source": [
    "assignment = {a for a in A if y[a].X>0}\n",
    "\n",
    "for i,j in assignment:\n",
    "    plt.plot([xc[i], xf[j]], [yc[i], yf[j]], c='g')\n",
    "    plt.scatter(xc,yc,c=\"blue\")\n",
    "    plt.scatter(xf,yf,c=\"red\", marker=\"s\")"
   ]
  },
  {
   "cell_type": "code",
   "execution_count": 45,
   "metadata": {},
   "outputs": [
    {
     "data": {
      "text/plain": [
       "[143, 160]"
      ]
     },
     "execution_count": 45,
     "metadata": {},
     "output_type": "execute_result"
    }
   ],
   "source": [
    "[xc[1], xf[1]]"
   ]
  },
  {
   "cell_type": "code",
   "execution_count": null,
   "metadata": {},
   "outputs": [],
   "source": []
  }
 ],
 "metadata": {
  "kernelspec": {
   "display_name": "Python 3",
   "language": "python",
   "name": "python3"
  },
  "language_info": {
   "codemirror_mode": {
    "name": "ipython",
    "version": 3
   },
   "file_extension": ".py",
   "mimetype": "text/x-python",
   "name": "python",
   "nbconvert_exporter": "python",
   "pygments_lexer": "ipython3",
   "version": "3.7.6"
  }
 },
 "nbformat": 4,
 "nbformat_minor": 4
}
