{
 "cells": [
  {
   "cell_type": "code",
   "execution_count": 38,
   "metadata": {},
   "outputs": [],
   "source": [
    "import gurobipy as gp\n",
    "from gurobipy import Model, GRB, quicksum\n",
    "import pandas as pd\n",
    "import numpy as np\n",
    "import matplotlib.pyplot as plt"
   ]
  },
  {
   "cell_type": "code",
   "execution_count": 39,
   "metadata": {},
   "outputs": [],
   "source": [
    "dataC = pd.read_csv(\"customer.csv\")\n",
    "dataF = pd.read_csv(\"facility.csv\")"
   ]
  },
  {
   "cell_type": "code",
   "execution_count": 40,
   "metadata": {},
   "outputs": [],
   "source": [
    "xc = dataC['X'].tolist()\n",
    "yc = dataC['Y'].tolist()\n",
    "h  = dataC['Demand'].tolist()\n",
    "n  = len(h)"
   ]
  },
  {
   "cell_type": "code",
   "execution_count": 41,
   "metadata": {},
   "outputs": [],
   "source": [
    "xf = dataF['X'].tolist()\n",
    "yf = dataF['Y'].tolist()\n",
    "f  = dataF['Installation cost'].tolist()\n",
    "m  = len(f)"
   ]
  },
  {
   "cell_type": "code",
   "execution_count": 50,
   "metadata": {},
   "outputs": [],
   "source": [
    "I = [i for i in range(0,n)]\n",
    "J = [j for j in range(0,m)]\n",
    "A = [(i,j) for i in I for j in J]\n",
    "p = 2\n",
    "\n",
    "#Transportation cost is $1/mile\n",
    "d = {(i,j): np.hypot(xc[i]-xf[j], yc[i]- yf[j]) for (i,j) in A}"
   ]
  },
  {
   "cell_type": "code",
   "execution_count": 43,
   "metadata": {},
   "outputs": [
    {
     "data": {
      "text/plain": [
       "{(0, 2): 23.430749027719962,\n",
       " (1, 1): 44.384682042344295,\n",
       " (2, 2): 29.832867780352597,\n",
       " (3, 2): 33.61547262794322,\n",
       " (5, 1): 31.144823004794873,\n",
       " (7, 0): 18.681541692269406,\n",
       " (8, 0): 3.0,\n",
       " (9, 2): 27.459060435491963}"
      ]
     },
     "execution_count": 43,
     "metadata": {},
     "output_type": "execute_result"
    }
   ],
   "source": [
    "#50 is the maximum covering distance\n",
    "\n",
    "d = dict((k,v) for k,v in d.items() if v<=50)\n",
    "d"
   ]
  },
  {
   "cell_type": "code",
   "execution_count": 44,
   "metadata": {},
   "outputs": [],
   "source": [
    "#Maximum covering limit problem\n",
    "mdl = Model('MCLP')"
   ]
  },
  {
   "cell_type": "code",
   "execution_count": 45,
   "metadata": {},
   "outputs": [
    {
     "data": {
      "text/plain": [
       "{0: {7, 8}, 1: {1, 5}, 2: {0, 2, 3, 9}}"
      ]
     },
     "execution_count": 45,
     "metadata": {},
     "output_type": "execute_result"
    }
   ],
   "source": [
    "facilities, coverage = gp.multidict({0:[{7,8}], 1:[{1,5}], 2: [{0,2,3,9}]})\n",
    "coverage"
   ]
  },
  {
   "cell_type": "code",
   "execution_count": 46,
   "metadata": {},
   "outputs": [],
   "source": [
    "x = mdl.addVars(J, vtype = GRB.BINARY)\n",
    "z = mdl.addVars(I, vtype = GRB.BINARY)"
   ]
  },
  {
   "cell_type": "code",
   "execution_count": 52,
   "metadata": {},
   "outputs": [],
   "source": [
    "mdl.setObjective(quicksum(h[i]*z[i] for i in I), GRB.MAXIMIZE)"
   ]
  },
  {
   "cell_type": "code",
   "execution_count": 53,
   "metadata": {},
   "outputs": [
    {
     "data": {
      "text/plain": [
       "<gurobi.Constr *Awaiting Model Update*>"
      ]
     },
     "execution_count": 53,
     "metadata": {},
     "output_type": "execute_result"
    }
   ],
   "source": [
    "mdl.addConstrs(quicksum(x[j] for j in J if i in coverage[j]) >= z[i] for i in I)\n",
    "mdl.addConstr(quicksum(x[j] for j in J) == p)"
   ]
  },
  {
   "cell_type": "code",
   "execution_count": 55,
   "metadata": {},
   "outputs": [
    {
     "name": "stdout",
     "output_type": "stream",
     "text": [
      "Gurobi Optimizer version 9.1.2 build v9.1.2rc0 (win64)\n",
      "Thread count: 2 physical cores, 4 logical processors, using up to 4 threads\n",
      "Optimize a model with 52 rows, 13 columns and 96 nonzeros\n",
      "Model fingerprint: 0x6883d436\n",
      "Variable types: 0 continuous, 13 integer (13 binary)\n",
      "Coefficient statistics:\n",
      "  Matrix range     [1e+00, 1e+00]\n",
      "  Objective range  [1e+00, 8e+00]\n",
      "  Bounds range     [1e+00, 1e+00]\n",
      "  RHS range        [2e+00, 2e+00]\n",
      "Found heuristic solution: objective 31.0000000\n",
      "Presolve removed 52 rows and 13 columns\n",
      "Presolve time: 0.00s\n",
      "Presolve: All rows and columns removed\n",
      "\n",
      "Explored 0 nodes (0 simplex iterations) in 0.01 seconds\n",
      "Thread count was 1 (of 4 available processors)\n",
      "\n",
      "Solution count 1: 31 \n",
      "\n",
      "Optimal solution found (tolerance 1.00e-04)\n",
      "Best objective 3.100000000000e+01, best bound 3.100000000000e+01, gap 0.0000%\n"
     ]
    }
   ],
   "source": [
    "mdl.optimize()"
   ]
  },
  {
   "cell_type": "code",
   "execution_count": 56,
   "metadata": {},
   "outputs": [
    {
     "data": {
      "text/plain": [
       "{0: <gurobi.Var C0 (value 0.0)>,\n",
       " 1: <gurobi.Var C1 (value 1.0)>,\n",
       " 2: <gurobi.Var C2 (value 1.0)>}"
      ]
     },
     "execution_count": 56,
     "metadata": {},
     "output_type": "execute_result"
    }
   ],
   "source": [
    "sol_x={j: x[j] for j in J}\n",
    "sol_x"
   ]
  },
  {
   "cell_type": "code",
   "execution_count": 57,
   "metadata": {},
   "outputs": [
    {
     "data": {
      "text/plain": [
       "{0: <gurobi.Var C3 (value 1.0)>,\n",
       " 1: <gurobi.Var C4 (value 1.0)>,\n",
       " 2: <gurobi.Var C5 (value 1.0)>,\n",
       " 3: <gurobi.Var C6 (value 1.0)>,\n",
       " 4: <gurobi.Var C7 (value 0.0)>,\n",
       " 5: <gurobi.Var C8 (value 1.0)>,\n",
       " 6: <gurobi.Var C9 (value 0.0)>,\n",
       " 7: <gurobi.Var C10 (value 0.0)>,\n",
       " 8: <gurobi.Var C11 (value 0.0)>,\n",
       " 9: <gurobi.Var C12 (value 1.0)>}"
      ]
     },
     "execution_count": 57,
     "metadata": {},
     "output_type": "execute_result"
    }
   ],
   "source": [
    "sol_z={i: z[i] for i in I}\n",
    "sol_z"
   ]
  },
  {
   "cell_type": "code",
   "execution_count": 58,
   "metadata": {},
   "outputs": [
    {
     "data": {
      "text/plain": [
       "<matplotlib.collections.PathCollection at 0x2decf892688>"
      ]
     },
     "execution_count": 58,
     "metadata": {},
     "output_type": "execute_result"
    },
    {
     "data": {
      "image/png": "[encoded data removed]",
      "text/plain": [
       "<Figure size 432x288 with 1 Axes>"
      ]
     },
     "metadata": {
      "needs_background": "light"
     },
     "output_type": "display_data"
    }
   ],
   "source": [
    "cir1=plt.Circle((xf[0],yf[0]), radius=50, zorder=0)\n",
    "cir2=plt.Circle((xf[1],yf[1]), radius=50, zorder=0)\n",
    "cir3=plt.Circle((xf[2],yf[2]), radius=50, zorder=0)\n",
    "fig, ax=plt.subplots()\n",
    "ax.add_patch(cir1)\n",
    "ax.add_patch(cir2)\n",
    "ax.add_patch(cir3)\n",
    "plt.scatter(xc,yc,c='b')\n",
    "plt.scatter(xf,yf,c='r',marker='s')"
   ]
  },
  {
   "cell_type": "code",
   "execution_count": null,
   "metadata": {},
   "outputs": [],
   "source": []
  },
  {
   "cell_type": "code",
   "execution_count": null,
   "metadata": {},
   "outputs": [],
   "source": []
  }
 ],
 "metadata": {
  "kernelspec": {
   "display_name": "Python 3",
   "language": "python",
   "name": "python3"
  },
  "language_info": {
   "codemirror_mode": {
    "name": "ipython",
    "version": 3
   },
   "file_extension": ".py",
   "mimetype": "text/x-python",
   "name": "python",
   "nbconvert_exporter": "python",
   "pygments_lexer": "ipython3",
   "version": "3.7.6"
  }
 },
 "nbformat": 4,
 "nbformat_minor": 4
}
