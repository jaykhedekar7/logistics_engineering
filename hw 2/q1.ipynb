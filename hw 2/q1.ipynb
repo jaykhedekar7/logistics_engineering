{
 "cells": [
  {
   "cell_type": "code",
   "execution_count": 1,
   "metadata": {},
   "outputs": [],
   "source": [
    "import gurobipy as gp\n",
    "from gurobipy import Model, GRB, quicksum\n",
    "import pandas as pd\n",
    "import numpy as np\n",
    "import matplotlib.pyplot as plt"
   ]
  },
  {
   "cell_type": "code",
   "execution_count": 41,
   "metadata": {},
   "outputs": [],
   "source": [
    "distance =  pd.read_csv(\"hw2.1.csv\")\n",
    "demand = pd.read_csv(\"hw2.1.2.csv\")"
   ]
  },
  {
   "cell_type": "code",
   "execution_count": 52,
   "metadata": {},
   "outputs": [
    {
     "data": {
      "text/html": [
       "<div>\n",
       "<style scoped>\n",
       "    .dataframe tbody tr th:only-of-type {\n",
       "        vertical-align: middle;\n",
       "    }\n",
       "\n",
       "    .dataframe tbody tr th {\n",
       "        vertical-align: top;\n",
       "    }\n",
       "\n",
       "    .dataframe thead th {\n",
       "        text-align: right;\n",
       "    }\n",
       "</style>\n",
       "<table border=\"1\" class=\"dataframe\">\n",
       "  <thead>\n",
       "    <tr style=\"text-align: right;\">\n",
       "      <th></th>\n",
       "      <th>1</th>\n",
       "      <th>2</th>\n",
       "      <th>3</th>\n",
       "      <th>4</th>\n",
       "      <th>5</th>\n",
       "      <th>6</th>\n",
       "    </tr>\n",
       "  </thead>\n",
       "  <tbody>\n",
       "    <tr>\n",
       "      <th>0</th>\n",
       "      <td>0</td>\n",
       "      <td>10</td>\n",
       "      <td>16</td>\n",
       "      <td>10</td>\n",
       "      <td>12</td>\n",
       "      <td>16</td>\n",
       "    </tr>\n",
       "    <tr>\n",
       "      <th>1</th>\n",
       "      <td>10</td>\n",
       "      <td>0</td>\n",
       "      <td>6</td>\n",
       "      <td>7</td>\n",
       "      <td>16</td>\n",
       "      <td>15</td>\n",
       "    </tr>\n",
       "    <tr>\n",
       "      <th>2</th>\n",
       "      <td>16</td>\n",
       "      <td>6</td>\n",
       "      <td>0</td>\n",
       "      <td>7</td>\n",
       "      <td>16</td>\n",
       "      <td>9</td>\n",
       "    </tr>\n",
       "    <tr>\n",
       "      <th>3</th>\n",
       "      <td>10</td>\n",
       "      <td>7</td>\n",
       "      <td>7</td>\n",
       "      <td>0</td>\n",
       "      <td>9</td>\n",
       "      <td>6</td>\n",
       "    </tr>\n",
       "    <tr>\n",
       "      <th>4</th>\n",
       "      <td>12</td>\n",
       "      <td>16</td>\n",
       "      <td>16</td>\n",
       "      <td>9</td>\n",
       "      <td>0</td>\n",
       "      <td>9</td>\n",
       "    </tr>\n",
       "  </tbody>\n",
       "</table>\n",
       "</div>"
      ],
      "text/plain": [
       "    1   2   3   4   5   6\n",
       "0   0  10  16  10  12  16\n",
       "1  10   0   6   7  16  15\n",
       "2  16   6   0   7  16   9\n",
       "3  10   7   7   0   9   6\n",
       "4  12  16  16   9   0   9"
      ]
     },
     "execution_count": 52,
     "metadata": {},
     "output_type": "execute_result"
    }
   ],
   "source": [
    "distance.head()\n",
    "#distance.iat[0,5]"
   ]
  },
  {
   "cell_type": "code",
   "execution_count": 51,
   "metadata": {},
   "outputs": [
    {
     "data": {
      "text/html": [
       "<div>\n",
       "<style scoped>\n",
       "    .dataframe tbody tr th:only-of-type {\n",
       "        vertical-align: middle;\n",
       "    }\n",
       "\n",
       "    .dataframe tbody tr th {\n",
       "        vertical-align: top;\n",
       "    }\n",
       "\n",
       "    .dataframe thead th {\n",
       "        text-align: right;\n",
       "    }\n",
       "</style>\n",
       "<table border=\"1\" class=\"dataframe\">\n",
       "  <thead>\n",
       "    <tr style=\"text-align: right;\">\n",
       "      <th></th>\n",
       "      <th>points</th>\n",
       "      <th>demand</th>\n",
       "      <th>cost</th>\n",
       "    </tr>\n",
       "  </thead>\n",
       "  <tbody>\n",
       "    <tr>\n",
       "      <th>0</th>\n",
       "      <td>A</td>\n",
       "      <td>10</td>\n",
       "      <td>40</td>\n",
       "    </tr>\n",
       "    <tr>\n",
       "      <th>1</th>\n",
       "      <td>B</td>\n",
       "      <td>10</td>\n",
       "      <td>100</td>\n",
       "    </tr>\n",
       "    <tr>\n",
       "      <th>2</th>\n",
       "      <td>C</td>\n",
       "      <td>6</td>\n",
       "      <td>50</td>\n",
       "    </tr>\n",
       "    <tr>\n",
       "      <th>3</th>\n",
       "      <td>D</td>\n",
       "      <td>5</td>\n",
       "      <td>115</td>\n",
       "    </tr>\n",
       "    <tr>\n",
       "      <th>4</th>\n",
       "      <td>E</td>\n",
       "      <td>9</td>\n",
       "      <td>70</td>\n",
       "    </tr>\n",
       "  </tbody>\n",
       "</table>\n",
       "</div>"
      ],
      "text/plain": [
       "  points  demand  cost\n",
       "0      A      10    40\n",
       "1      B      10   100\n",
       "2      C       6    50\n",
       "3      D       5   115\n",
       "4      E       9    70"
      ]
     },
     "execution_count": 51,
     "metadata": {},
     "output_type": "execute_result"
    }
   ],
   "source": [
    "demand.head()"
   ]
  },
  {
   "cell_type": "code",
   "execution_count": 55,
   "metadata": {},
   "outputs": [],
   "source": [
    "f = demand['cost'].tolist()\n",
    "h = demand['demand'].tolist()\n",
    "n = len(demand)"
   ]
  },
  {
   "cell_type": "code",
   "execution_count": 70,
   "metadata": {},
   "outputs": [
    {
     "data": {
      "text/plain": [
       "{(0, 0): 0,\n",
       " (0, 1): 10,\n",
       " (0, 2): 16,\n",
       " (0, 3): 10,\n",
       " (0, 4): 12,\n",
       " (0, 5): 16,\n",
       " (1, 0): 10,\n",
       " (1, 1): 0,\n",
       " (1, 2): 6,\n",
       " (1, 3): 7,\n",
       " (1, 4): 16,\n",
       " (1, 5): 15,\n",
       " (2, 0): 16,\n",
       " (2, 1): 6,\n",
       " (2, 2): 0,\n",
       " (2, 3): 7,\n",
       " (2, 4): 16,\n",
       " (2, 5): 9,\n",
       " (3, 0): 10,\n",
       " (3, 1): 7,\n",
       " (3, 2): 7,\n",
       " (3, 3): 0,\n",
       " (3, 4): 9,\n",
       " (3, 5): 6,\n",
       " (4, 0): 12,\n",
       " (4, 1): 16,\n",
       " (4, 2): 16,\n",
       " (4, 3): 9,\n",
       " (4, 4): 0,\n",
       " (4, 5): 9,\n",
       " (5, 0): 16,\n",
       " (5, 1): 15,\n",
       " (5, 2): 9,\n",
       " (5, 3): 6,\n",
       " (5, 4): 9,\n",
       " (5, 5): 0}"
      ]
     },
     "execution_count": 70,
     "metadata": {},
     "output_type": "execute_result"
    }
   ],
   "source": [
    "I = {i for i in range(0,n)}\n",
    "J = {i for i in range(0,n)}\n",
    "A = [(i,j) for i in I for j in J]\n",
    "c = {(i,j): distance.iat[i,j] for i in range(0,n) for j in range(0,n)}\n",
    "c"
   ]
  },
  {
   "cell_type": "code",
   "execution_count": 65,
   "metadata": {},
   "outputs": [],
   "source": [
    "mdl = Model('UFLP')"
   ]
  },
  {
   "cell_type": "code",
   "execution_count": 75,
   "metadata": {},
   "outputs": [],
   "source": [
    "x = mdl.addVars(I, vtype = GRB.BINARY)\n",
    "y = mdl.addVars(A, vtype = GRB.BINARY)\n",
    "dd = mdl.addVars(c, vtype = GRB.CONTINUOUS)"
   ]
  },
  {
   "cell_type": "code",
   "execution_count": 76,
   "metadata": {},
   "outputs": [],
   "source": [
    "mdl.setObjective(quicksum(f[j]*x[j] for j  in J) + quicksum(h[i]*c[i,j]*y[i,j] for i,j in A), GRB.MINIMIZE)"
   ]
  },
  {
   "cell_type": "code",
   "execution_count": 89,
   "metadata": {},
   "outputs": [
    {
     "data": {
      "text/plain": [
       "{(0, 0): <gurobi.Constr *Awaiting Model Update*>,\n",
       " (0, 1): <gurobi.Constr *Awaiting Model Update*>,\n",
       " (0, 2): <gurobi.Constr *Awaiting Model Update*>,\n",
       " (0, 3): <gurobi.Constr *Awaiting Model Update*>,\n",
       " (0, 4): <gurobi.Constr *Awaiting Model Update*>,\n",
       " (0, 5): <gurobi.Constr *Awaiting Model Update*>,\n",
       " (1, 0): <gurobi.Constr *Awaiting Model Update*>,\n",
       " (1, 1): <gurobi.Constr *Awaiting Model Update*>,\n",
       " (1, 2): <gurobi.Constr *Awaiting Model Update*>,\n",
       " (1, 3): <gurobi.Constr *Awaiting Model Update*>,\n",
       " (1, 4): <gurobi.Constr *Awaiting Model Update*>,\n",
       " (1, 5): <gurobi.Constr *Awaiting Model Update*>,\n",
       " (2, 0): <gurobi.Constr *Awaiting Model Update*>,\n",
       " (2, 1): <gurobi.Constr *Awaiting Model Update*>,\n",
       " (2, 2): <gurobi.Constr *Awaiting Model Update*>,\n",
       " (2, 3): <gurobi.Constr *Awaiting Model Update*>,\n",
       " (2, 4): <gurobi.Constr *Awaiting Model Update*>,\n",
       " (2, 5): <gurobi.Constr *Awaiting Model Update*>,\n",
       " (3, 0): <gurobi.Constr *Awaiting Model Update*>,\n",
       " (3, 1): <gurobi.Constr *Awaiting Model Update*>,\n",
       " (3, 2): <gurobi.Constr *Awaiting Model Update*>,\n",
       " (3, 3): <gurobi.Constr *Awaiting Model Update*>,\n",
       " (3, 4): <gurobi.Constr *Awaiting Model Update*>,\n",
       " (3, 5): <gurobi.Constr *Awaiting Model Update*>,\n",
       " (4, 0): <gurobi.Constr *Awaiting Model Update*>,\n",
       " (4, 1): <gurobi.Constr *Awaiting Model Update*>,\n",
       " (4, 2): <gurobi.Constr *Awaiting Model Update*>,\n",
       " (4, 3): <gurobi.Constr *Awaiting Model Update*>,\n",
       " (4, 4): <gurobi.Constr *Awaiting Model Update*>,\n",
       " (4, 5): <gurobi.Constr *Awaiting Model Update*>,\n",
       " (5, 0): <gurobi.Constr *Awaiting Model Update*>,\n",
       " (5, 1): <gurobi.Constr *Awaiting Model Update*>,\n",
       " (5, 2): <gurobi.Constr *Awaiting Model Update*>,\n",
       " (5, 3): <gurobi.Constr *Awaiting Model Update*>,\n",
       " (5, 4): <gurobi.Constr *Awaiting Model Update*>,\n",
       " (5, 5): <gurobi.Constr *Awaiting Model Update*>}"
      ]
     },
     "execution_count": 89,
     "metadata": {},
     "output_type": "execute_result"
    }
   ],
   "source": [
    "mdl.addConstrs(quicksum(y[i,j] for j in J) == 1 for i in I)\n",
    "mdl.addConstrs(y[i,j] <= x[j] for i,j in A)\n",
    "mdl.addConstrs(y[i,j] >= 0 for i,j in A)"
   ]
  },
  {
   "cell_type": "code",
   "execution_count": 85,
   "metadata": {},
   "outputs": [
    {
     "name": "stdout",
     "output_type": "stream",
     "text": [
      "Gurobi Optimizer version 9.1.2 build v9.1.2rc0 (win64)\n",
      "Thread count: 2 physical cores, 4 logical processors, using up to 4 threads\n",
      "Optimize a model with 504 rows, 198 columns and 900 nonzeros\n",
      "Model fingerprint: 0xe06c481a\n",
      "Variable types: 72 continuous, 126 integer (126 binary)\n",
      "Coefficient statistics:\n",
      "  Matrix range     [1e+00, 1e+00]\n",
      "  Objective range  [3e+01, 2e+02]\n",
      "  Bounds range     [1e+00, 1e+00]\n",
      "  RHS range        [1e+00, 1e+00]\n",
      "\n",
      "MIP start from previous solve produced solution with objective 345 (0.09s)\n",
      "Loaded MIP start from previous solve with objective 345\n",
      "\n",
      "Presolve removed 462 rows and 156 columns\n",
      "Presolve time: 0.00s\n",
      "Presolved: 42 rows, 42 columns, 108 nonzeros\n",
      "Variable types: 0 continuous, 42 integer (42 binary)\n",
      "\n",
      "Root relaxation: cutoff, 15 iterations, 0.00 seconds\n",
      "\n",
      "    Nodes    |    Current Node    |     Objective Bounds      |     Work\n",
      " Expl Unexpl |  Obj  Depth IntInf | Incumbent    BestBd   Gap | It/Node Time\n",
      "\n",
      "     0     0     cutoff    0       345.00000  345.00000  0.00%     -    0s\n",
      "\n",
      "Explored 0 nodes (15 simplex iterations) in 0.11 seconds\n",
      "Thread count was 4 (of 4 available processors)\n",
      "\n",
      "Solution count 1: 345 \n",
      "\n",
      "Optimal solution found (tolerance 1.00e-04)\n",
      "Best objective 3.450000000000e+02, best bound 3.450000000000e+02, gap 0.0000%\n"
     ]
    }
   ],
   "source": [
    "mdl.optimize()"
   ]
  },
  {
   "cell_type": "code",
   "execution_count": 86,
   "metadata": {},
   "outputs": [
    {
     "data": {
      "text/plain": [
       "{0: <gurobi.Var C120 (value 1.0)>,\n",
       " 1: <gurobi.Var C121 (value 0.0)>,\n",
       " 2: <gurobi.Var C122 (value 1.0)>,\n",
       " 3: <gurobi.Var C123 (value 0.0)>,\n",
       " 4: <gurobi.Var C124 (value 1.0)>,\n",
       " 5: <gurobi.Var C125 (value 0.0)>}"
      ]
     },
     "execution_count": 86,
     "metadata": {},
     "output_type": "execute_result"
    }
   ],
   "source": [
    "sol_x = {j: x[j] for j in J}\n",
    "sol_x"
   ]
  },
  {
   "cell_type": "code",
   "execution_count": 87,
   "metadata": {},
   "outputs": [
    {
     "data": {
      "text/plain": [
       "{(0, 0): <gurobi.Var C126 (value 1.0)>,\n",
       " (0, 1): <gurobi.Var C127 (value 0.0)>,\n",
       " (0, 2): <gurobi.Var C128 (value 0.0)>,\n",
       " (0, 3): <gurobi.Var C129 (value 0.0)>,\n",
       " (0, 4): <gurobi.Var C130 (value 0.0)>,\n",
       " (0, 5): <gurobi.Var C131 (value 0.0)>,\n",
       " (1, 0): <gurobi.Var C132 (value 0.0)>,\n",
       " (1, 1): <gurobi.Var C133 (value 0.0)>,\n",
       " (1, 2): <gurobi.Var C134 (value 1.0)>,\n",
       " (1, 3): <gurobi.Var C135 (value 0.0)>,\n",
       " (1, 4): <gurobi.Var C136 (value 0.0)>,\n",
       " (1, 5): <gurobi.Var C137 (value 0.0)>,\n",
       " (2, 0): <gurobi.Var C138 (value 0.0)>,\n",
       " (2, 1): <gurobi.Var C139 (value 0.0)>,\n",
       " (2, 2): <gurobi.Var C140 (value 1.0)>,\n",
       " (2, 3): <gurobi.Var C141 (value 0.0)>,\n",
       " (2, 4): <gurobi.Var C142 (value 0.0)>,\n",
       " (2, 5): <gurobi.Var C143 (value 0.0)>,\n",
       " (3, 0): <gurobi.Var C144 (value 0.0)>,\n",
       " (3, 1): <gurobi.Var C145 (value 0.0)>,\n",
       " (3, 2): <gurobi.Var C146 (value 1.0)>,\n",
       " (3, 3): <gurobi.Var C147 (value 0.0)>,\n",
       " (3, 4): <gurobi.Var C148 (value 0.0)>,\n",
       " (3, 5): <gurobi.Var C149 (value 0.0)>,\n",
       " (4, 0): <gurobi.Var C150 (value 0.0)>,\n",
       " (4, 1): <gurobi.Var C151 (value 0.0)>,\n",
       " (4, 2): <gurobi.Var C152 (value 0.0)>,\n",
       " (4, 3): <gurobi.Var C153 (value 0.0)>,\n",
       " (4, 4): <gurobi.Var C154 (value 1.0)>,\n",
       " (4, 5): <gurobi.Var C155 (value 0.0)>,\n",
       " (5, 0): <gurobi.Var C156 (value 0.0)>,\n",
       " (5, 1): <gurobi.Var C157 (value 0.0)>,\n",
       " (5, 2): <gurobi.Var C158 (value 1.0)>,\n",
       " (5, 3): <gurobi.Var C159 (value 0.0)>,\n",
       " (5, 4): <gurobi.Var C160 (value 0.0)>,\n",
       " (5, 5): <gurobi.Var C161 (value 0.0)>}"
      ]
     },
     "execution_count": 87,
     "metadata": {},
     "output_type": "execute_result"
    }
   ],
   "source": [
    "sol_y = {(i,j): y[i,j] for i,j in A}\n",
    "sol_y"
   ]
  },
  {
   "cell_type": "code",
   "execution_count": 93,
   "metadata": {},
   "outputs": [
    {
     "data": {
      "text/plain": [
       "{(0, 0), (1, 2), (2, 2), (3, 2), (4, 4), (5, 2)}"
      ]
     },
     "execution_count": 93,
     "metadata": {},
     "output_type": "execute_result"
    }
   ],
   "source": [
    "assignment = {a for a in A if y[a].X>0}\n",
    "assignment"
   ]
  }
 ],
 "metadata": {
  "kernelspec": {
   "display_name": "Python 3",
   "language": "python",
   "name": "python3"
  },
  "language_info": {
   "codemirror_mode": {
    "name": "ipython",
    "version": 3
   },
   "file_extension": ".py",
   "mimetype": "text/x-python",
   "name": "python",
   "nbconvert_exporter": "python",
   "pygments_lexer": "ipython3",
   "version": "3.7.6"
  }
 },
 "nbformat": 4,
 "nbformat_minor": 4
}
