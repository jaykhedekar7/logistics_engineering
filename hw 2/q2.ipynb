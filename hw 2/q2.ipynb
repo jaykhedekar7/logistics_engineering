{
 "cells": [
  {
   "cell_type": "code",
   "execution_count": 1,
   "metadata": {},
   "outputs": [],
   "source": [
    "import gurobipy as gp\n",
    "from gurobipy import Model, GRB, quicksum\n",
    "import pandas as pd\n",
    "import numpy as np\n",
    "import matplotlib.pyplot as plt"
   ]
  },
  {
   "cell_type": "code",
   "execution_count": 2,
   "metadata": {},
   "outputs": [],
   "source": [
    "distance =  pd.read_csv(\"hw2.2.1.csv\")\n",
    "demand = pd.read_csv(\"hw2.2.2.csv\")"
   ]
  },
  {
   "cell_type": "code",
   "execution_count": 3,
   "metadata": {},
   "outputs": [
    {
     "data": {
      "text/html": [
       "<div>\n",
       "<style scoped>\n",
       "    .dataframe tbody tr th:only-of-type {\n",
       "        vertical-align: middle;\n",
       "    }\n",
       "\n",
       "    .dataframe tbody tr th {\n",
       "        vertical-align: top;\n",
       "    }\n",
       "\n",
       "    .dataframe thead th {\n",
       "        text-align: right;\n",
       "    }\n",
       "</style>\n",
       "<table border=\"1\" class=\"dataframe\">\n",
       "  <thead>\n",
       "    <tr style=\"text-align: right;\">\n",
       "      <th></th>\n",
       "      <th>0</th>\n",
       "      <th>1</th>\n",
       "      <th>2</th>\n",
       "      <th>3</th>\n",
       "      <th>4</th>\n",
       "      <th>5</th>\n",
       "      <th>6</th>\n",
       "      <th>7</th>\n",
       "      <th>8</th>\n",
       "      <th>9</th>\n",
       "    </tr>\n",
       "  </thead>\n",
       "  <tbody>\n",
       "    <tr>\n",
       "      <th>0</th>\n",
       "      <td>0</td>\n",
       "      <td>20</td>\n",
       "      <td>41</td>\n",
       "      <td>17</td>\n",
       "      <td>18</td>\n",
       "      <td>38</td>\n",
       "      <td>64</td>\n",
       "      <td>37</td>\n",
       "      <td>54</td>\n",
       "      <td>71</td>\n",
       "    </tr>\n",
       "    <tr>\n",
       "      <th>1</th>\n",
       "      <td>20</td>\n",
       "      <td>0</td>\n",
       "      <td>21</td>\n",
       "      <td>37</td>\n",
       "      <td>38</td>\n",
       "      <td>18</td>\n",
       "      <td>43</td>\n",
       "      <td>53</td>\n",
       "      <td>36</td>\n",
       "      <td>53</td>\n",
       "    </tr>\n",
       "    <tr>\n",
       "      <th>2</th>\n",
       "      <td>41</td>\n",
       "      <td>21</td>\n",
       "      <td>0</td>\n",
       "      <td>58</td>\n",
       "      <td>59</td>\n",
       "      <td>39</td>\n",
       "      <td>22</td>\n",
       "      <td>78</td>\n",
       "      <td>57</td>\n",
       "      <td>46</td>\n",
       "    </tr>\n",
       "    <tr>\n",
       "      <th>3</th>\n",
       "      <td>17</td>\n",
       "      <td>37</td>\n",
       "      <td>58</td>\n",
       "      <td>0</td>\n",
       "      <td>35</td>\n",
       "      <td>55</td>\n",
       "      <td>78</td>\n",
       "      <td>20</td>\n",
       "      <td>37</td>\n",
       "      <td>54</td>\n",
       "    </tr>\n",
       "    <tr>\n",
       "      <th>4</th>\n",
       "      <td>18</td>\n",
       "      <td>38</td>\n",
       "      <td>59</td>\n",
       "      <td>35</td>\n",
       "      <td>0</td>\n",
       "      <td>20</td>\n",
       "      <td>48</td>\n",
       "      <td>55</td>\n",
       "      <td>38</td>\n",
       "      <td>52</td>\n",
       "    </tr>\n",
       "  </tbody>\n",
       "</table>\n",
       "</div>"
      ],
      "text/plain": [
       "    0   1   2   3   4   5   6   7   8   9\n",
       "0   0  20  41  17  18  38  64  37  54  71\n",
       "1  20   0  21  37  38  18  43  53  36  53\n",
       "2  41  21   0  58  59  39  22  78  57  46\n",
       "3  17  37  58   0  35  55  78  20  37  54\n",
       "4  18  38  59  35   0  20  48  55  38  52"
      ]
     },
     "execution_count": 3,
     "metadata": {},
     "output_type": "execute_result"
    }
   ],
   "source": [
    "distance.head()"
   ]
  },
  {
   "cell_type": "code",
   "execution_count": 4,
   "metadata": {},
   "outputs": [
    {
     "data": {
      "text/html": [
       "<div>\n",
       "<style scoped>\n",
       "    .dataframe tbody tr th:only-of-type {\n",
       "        vertical-align: middle;\n",
       "    }\n",
       "\n",
       "    .dataframe tbody tr th {\n",
       "        vertical-align: top;\n",
       "    }\n",
       "\n",
       "    .dataframe thead th {\n",
       "        text-align: right;\n",
       "    }\n",
       "</style>\n",
       "<table border=\"1\" class=\"dataframe\">\n",
       "  <thead>\n",
       "    <tr style=\"text-align: right;\">\n",
       "      <th></th>\n",
       "      <th>Points</th>\n",
       "      <th>Demand</th>\n",
       "    </tr>\n",
       "  </thead>\n",
       "  <tbody>\n",
       "    <tr>\n",
       "      <th>0</th>\n",
       "      <td>A</td>\n",
       "      <td>18</td>\n",
       "    </tr>\n",
       "    <tr>\n",
       "      <th>1</th>\n",
       "      <td>B</td>\n",
       "      <td>27</td>\n",
       "    </tr>\n",
       "    <tr>\n",
       "      <th>2</th>\n",
       "      <td>C</td>\n",
       "      <td>26</td>\n",
       "    </tr>\n",
       "    <tr>\n",
       "      <th>3</th>\n",
       "      <td>D</td>\n",
       "      <td>10</td>\n",
       "    </tr>\n",
       "    <tr>\n",
       "      <th>4</th>\n",
       "      <td>E</td>\n",
       "      <td>11</td>\n",
       "    </tr>\n",
       "  </tbody>\n",
       "</table>\n",
       "</div>"
      ],
      "text/plain": [
       "  Points  Demand\n",
       "0      A      18\n",
       "1      B      27\n",
       "2      C      26\n",
       "3      D      10\n",
       "4      E      11"
      ]
     },
     "execution_count": 4,
     "metadata": {},
     "output_type": "execute_result"
    }
   ],
   "source": [
    "demand.head()"
   ]
  },
  {
   "cell_type": "code",
   "execution_count": 6,
   "metadata": {},
   "outputs": [],
   "source": [
    "#f = demand['cost'].tolist()\n",
    "h = demand['Demand'].tolist()\n",
    "n = len(demand)"
   ]
  },
  {
   "cell_type": "code",
   "execution_count": 9,
   "metadata": {},
   "outputs": [],
   "source": [
    "I = {i for i in range(0,n)}\n",
    "J = {i for i in range(0,n)}\n",
    "A = [(i,j) for i in I for j in J]\n",
    "\n",
    "#Converting distance matrix to dictionary like data type\n",
    "d = {(i,j): distance.iat[i,j] for i in range(0,n) for j in range(0,n)}\n"
   ]
  },
  {
   "cell_type": "code",
   "execution_count": 10,
   "metadata": {},
   "outputs": [
    {
     "data": {
      "text/plain": [
       "{(0, 0): 0,\n",
       " (0, 3): 17,\n",
       " (0, 4): 18,\n",
       " (1, 1): 0,\n",
       " (1, 5): 18,\n",
       " (2, 2): 0,\n",
       " (3, 0): 17,\n",
       " (3, 3): 0,\n",
       " (4, 0): 18,\n",
       " (4, 4): 0,\n",
       " (5, 1): 18,\n",
       " (5, 5): 0,\n",
       " (5, 8): 18,\n",
       " (6, 6): 0,\n",
       " (7, 7): 0,\n",
       " (7, 8): 17,\n",
       " (8, 5): 18,\n",
       " (8, 7): 17,\n",
       " (8, 8): 0,\n",
       " (8, 9): 17,\n",
       " (9, 8): 17,\n",
       " (9, 9): 0}"
      ]
     },
     "execution_count": 10,
     "metadata": {},
     "output_type": "execute_result"
    }
   ],
   "source": [
    "d = dict((k,v) for k,v in d.items() if v<=18)\n",
    "d"
   ]
  },
  {
   "cell_type": "code",
   "execution_count": 8,
   "metadata": {},
   "outputs": [
    {
     "name": "stdout",
     "output_type": "stream",
     "text": [
      "Academic license - for non-commercial use only - expires 2022-08-28\n",
      "Using license file C:\\Users\\HP\\gurobi.lic\n"
     ]
    }
   ],
   "source": [
    "#Maximum covering limit problem\n",
    "mdl = Model('MCLP')"
   ]
  },
  {
   "cell_type": "code",
   "execution_count": 16,
   "metadata": {},
   "outputs": [],
   "source": [
    "#For p=1\n",
    "p = 1"
   ]
  },
  {
   "cell_type": "code",
   "execution_count": 12,
   "metadata": {},
   "outputs": [
    {
     "data": {
      "text/plain": [
       "{0: {0, 3, 4},\n",
       " 1: {1, 5},\n",
       " 2: {2},\n",
       " 3: {0, 3},\n",
       " 4: {0, 4},\n",
       " 5: {1, 5, 8},\n",
       " 6: {6},\n",
       " 7: {7, 8},\n",
       " 8: {5, 7, 8, 9},\n",
       " 9: {8, 9}}"
      ]
     },
     "execution_count": 12,
     "metadata": {},
     "output_type": "execute_result"
    }
   ],
   "source": [
    "facilities, coverage = gp.multidict({0:[{0,3,4}], 1:[{1,5}], 2: [{2}], 3: [{0,3}], 4: [{0,4}], 5: [{1,5,8}], 6: [{6}], 7: [{7,8}], 8: [{7,5,9,8}], 9: [{8,9}]})\n",
    "coverage"
   ]
  },
  {
   "cell_type": "code",
   "execution_count": 13,
   "metadata": {},
   "outputs": [],
   "source": [
    "x = mdl.addVars(J, vtype = GRB.BINARY)\n",
    "z = mdl.addVars(I, vtype = GRB.BINARY)"
   ]
  },
  {
   "cell_type": "code",
   "execution_count": 15,
   "metadata": {},
   "outputs": [],
   "source": [
    "mdl.setObjective(quicksum(h[i]*z[i] for i in I), GRB.MAXIMIZE)"
   ]
  },
  {
   "cell_type": "code",
   "execution_count": 17,
   "metadata": {},
   "outputs": [
    {
     "data": {
      "text/plain": [
       "<gurobi.Constr *Awaiting Model Update*>"
      ]
     },
     "execution_count": 17,
     "metadata": {},
     "output_type": "execute_result"
    }
   ],
   "source": [
    "mdl.addConstrs(quicksum(x[j] for j in J if i in coverage[j]) >= z[i] for i in I)\n",
    "mdl.addConstr(quicksum(x[j] for j in J) == p)"
   ]
  },
  {
   "cell_type": "code",
   "execution_count": 18,
   "metadata": {},
   "outputs": [
    {
     "name": "stdout",
     "output_type": "stream",
     "text": [
      "Gurobi Optimizer version 9.1.2 build v9.1.2rc0 (win64)\n",
      "Thread count: 2 physical cores, 4 logical processors, using up to 4 threads\n",
      "Optimize a model with 11 rows, 20 columns and 42 nonzeros\n",
      "Model fingerprint: 0x0cbc8af6\n",
      "Variable types: 0 continuous, 20 integer (20 binary)\n",
      "Coefficient statistics:\n",
      "  Matrix range     [1e+00, 1e+00]\n",
      "  Objective range  [1e+01, 4e+01]\n",
      "  Bounds range     [1e+00, 1e+00]\n",
      "  RHS range        [1e+00, 1e+00]\n",
      "Found heuristic solution: objective 65.0000000\n",
      "Presolve removed 11 rows and 20 columns\n",
      "Presolve time: 0.02s\n",
      "Presolve: All rows and columns removed\n",
      "\n",
      "Explored 0 nodes (0 simplex iterations) in 0.02 seconds\n",
      "Thread count was 1 (of 4 available processors)\n",
      "\n",
      "Solution count 2: 116 65 \n",
      "\n",
      "Optimal solution found (tolerance 1.00e-04)\n",
      "Best objective 1.160000000000e+02, best bound 1.160000000000e+02, gap 0.0000%\n"
     ]
    }
   ],
   "source": [
    "mdl.optimize()"
   ]
  },
  {
   "cell_type": "code",
   "execution_count": 19,
   "metadata": {},
   "outputs": [
    {
     "data": {
      "text/plain": [
       "{0: <gurobi.Var C0 (value 0.0)>,\n",
       " 1: <gurobi.Var C1 (value 0.0)>,\n",
       " 2: <gurobi.Var C2 (value 0.0)>,\n",
       " 3: <gurobi.Var C3 (value 0.0)>,\n",
       " 4: <gurobi.Var C4 (value 0.0)>,\n",
       " 5: <gurobi.Var C5 (value 0.0)>,\n",
       " 6: <gurobi.Var C6 (value 0.0)>,\n",
       " 7: <gurobi.Var C7 (value 0.0)>,\n",
       " 8: <gurobi.Var C8 (value 1.0)>,\n",
       " 9: <gurobi.Var C9 (value 0.0)>}"
      ]
     },
     "execution_count": 19,
     "metadata": {},
     "output_type": "execute_result"
    }
   ],
   "source": [
    "sol_x={j: x[j] for j in J}\n",
    "sol_x"
   ]
  },
  {
   "cell_type": "code",
   "execution_count": 20,
   "metadata": {},
   "outputs": [
    {
     "data": {
      "text/plain": [
       "{0: <gurobi.Var C10 (value 0.0)>,\n",
       " 1: <gurobi.Var C11 (value 0.0)>,\n",
       " 2: <gurobi.Var C12 (value 0.0)>,\n",
       " 3: <gurobi.Var C13 (value 0.0)>,\n",
       " 4: <gurobi.Var C14 (value 0.0)>,\n",
       " 5: <gurobi.Var C15 (value 1.0)>,\n",
       " 6: <gurobi.Var C16 (value 0.0)>,\n",
       " 7: <gurobi.Var C17 (value 1.0)>,\n",
       " 8: <gurobi.Var C18 (value 1.0)>,\n",
       " 9: <gurobi.Var C19 (value 1.0)>}"
      ]
     },
     "execution_count": 20,
     "metadata": {},
     "output_type": "execute_result"
    }
   ],
   "source": [
    "sol_z={i: z[i] for i in I}\n",
    "sol_z"
   ]
  },
  {
   "cell_type": "code",
   "execution_count": null,
   "metadata": {},
   "outputs": [],
   "source": []
  },
  {
   "cell_type": "code",
   "execution_count": null,
   "metadata": {},
   "outputs": [],
   "source": []
  },
  {
   "cell_type": "code",
   "execution_count": null,
   "metadata": {},
   "outputs": [],
   "source": []
  },
  {
   "cell_type": "code",
   "execution_count": 23,
   "metadata": {},
   "outputs": [],
   "source": [
    "#For p=1\n",
    "p = 2"
   ]
  },
  {
   "cell_type": "code",
   "execution_count": 24,
   "metadata": {},
   "outputs": [],
   "source": [
    "facilities, coverage = gp.multidict({0:[{0,3,4}], 1:[{1,5}], 2: [{2}], 3: [{0,3}], 4: [{0,4}], 5: [{1,5,8}], 6: [{6}], 7: [{7,8}], 8: [{7,5,9,8}], 9: [{8,9}]})"
   ]
  },
  {
   "cell_type": "code",
   "execution_count": 25,
   "metadata": {},
   "outputs": [],
   "source": [
    "x = mdl.addVars(J, vtype = GRB.BINARY)\n",
    "z = mdl.addVars(I, vtype = GRB.BINARY)"
   ]
  },
  {
   "cell_type": "code",
   "execution_count": 26,
   "metadata": {},
   "outputs": [],
   "source": [
    "mdl.setObjective(quicksum(h[i]*z[i] for i in I), GRB.MAXIMIZE)"
   ]
  },
  {
   "cell_type": "code",
   "execution_count": 27,
   "metadata": {},
   "outputs": [
    {
     "data": {
      "text/plain": [
       "<gurobi.Constr *Awaiting Model Update*>"
      ]
     },
     "execution_count": 27,
     "metadata": {},
     "output_type": "execute_result"
    }
   ],
   "source": [
    "mdl.addConstrs(quicksum(x[j] for j in J if i in coverage[j]) >= z[i] for i in I)\n",
    "mdl.addConstr(quicksum(x[j] for j in J) == p)"
   ]
  },
  {
   "cell_type": "code",
   "execution_count": 28,
   "metadata": {},
   "outputs": [
    {
     "name": "stdout",
     "output_type": "stream",
     "text": [
      "Gurobi Optimizer version 9.1.2 build v9.1.2rc0 (win64)\n",
      "Thread count: 2 physical cores, 4 logical processors, using up to 4 threads\n",
      "Optimize a model with 22 rows, 40 columns and 84 nonzeros\n",
      "Model fingerprint: 0x8d8c4e91\n",
      "Variable types: 0 continuous, 40 integer (40 binary)\n",
      "Coefficient statistics:\n",
      "  Matrix range     [1e+00, 1e+00]\n",
      "  Objective range  [1e+01, 4e+01]\n",
      "  Bounds range     [1e+00, 1e+00]\n",
      "  RHS range        [1e+00, 2e+00]\n",
      "\n",
      "MIP start from previous solve produced solution with objective 155 (0.08s)\n",
      "Loaded MIP start from previous solve with objective 155\n",
      "\n",
      "Presolve removed 13 rows and 22 columns\n",
      "Presolve time: 0.00s\n",
      "Presolved: 9 rows, 18 columns, 38 nonzeros\n",
      "Variable types: 0 continuous, 18 integer (18 binary)\n",
      "\n",
      "Root relaxation: cutoff, 7 iterations, 0.00 seconds\n",
      "\n",
      "    Nodes    |    Current Node    |     Objective Bounds      |     Work\n",
      " Expl Unexpl |  Obj  Depth IntInf | Incumbent    BestBd   Gap | It/Node Time\n",
      "\n",
      "     0     0     cutoff    0       155.00000  155.00000  0.00%     -    0s\n",
      "\n",
      "Explored 0 nodes (7 simplex iterations) in 0.11 seconds\n",
      "Thread count was 4 (of 4 available processors)\n",
      "\n",
      "Solution count 1: 155 \n",
      "\n",
      "Optimal solution found (tolerance 1.00e-04)\n",
      "Best objective 1.550000000000e+02, best bound 1.550000000000e+02, gap 0.0000%\n"
     ]
    }
   ],
   "source": [
    "mdl.optimize()"
   ]
  },
  {
   "cell_type": "code",
   "execution_count": 29,
   "metadata": {},
   "outputs": [
    {
     "data": {
      "text/plain": [
       "{0: <gurobi.Var C20 (value 1.0)>,\n",
       " 1: <gurobi.Var C21 (value 0.0)>,\n",
       " 2: <gurobi.Var C22 (value -0.0)>,\n",
       " 3: <gurobi.Var C23 (value 0.0)>,\n",
       " 4: <gurobi.Var C24 (value 0.0)>,\n",
       " 5: <gurobi.Var C25 (value -0.0)>,\n",
       " 6: <gurobi.Var C26 (value -0.0)>,\n",
       " 7: <gurobi.Var C27 (value 0.0)>,\n",
       " 8: <gurobi.Var C28 (value 1.0)>,\n",
       " 9: <gurobi.Var C29 (value -0.0)>}"
      ]
     },
     "execution_count": 29,
     "metadata": {},
     "output_type": "execute_result"
    }
   ],
   "source": [
    "sol_x={j: x[j] for j in J}\n",
    "sol_x"
   ]
  },
  {
   "cell_type": "code",
   "execution_count": null,
   "metadata": {},
   "outputs": [],
   "source": []
  },
  {
   "cell_type": "markdown",
   "metadata": {},
   "source": [
    "## First facility to open is I\n",
    "## Second facility to open is A"
   ]
  },
  {
   "cell_type": "markdown",
   "metadata": {},
   "source": [
    "### Result matches the one obtained from ADD Algorithm"
   ]
  }
 ],
 "metadata": {
  "kernelspec": {
   "display_name": "Python 3",
   "language": "python",
   "name": "python3"
  },
  "language_info": {
   "codemirror_mode": {
    "name": "ipython",
    "version": 3
   },
   "file_extension": ".py",
   "mimetype": "text/x-python",
   "name": "python",
   "nbconvert_exporter": "python",
   "pygments_lexer": "ipython3",
   "version": "3.7.6"
  }
 },
 "nbformat": 4,
 "nbformat_minor": 4
}
